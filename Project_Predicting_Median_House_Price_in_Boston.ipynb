{
  "nbformat": 4,
  "nbformat_minor": 0,
  "metadata": {
    "colab": {
      "name": "Project: Predicting Median House Price in Boston",
      "provenance": [],
      "collapsed_sections": []
    },
    "kernelspec": {
      "name": "python3",
      "display_name": "Python 3"
    }
  },
  "cells": [
    {
      "cell_type": "markdown",
      "metadata": {
        "id": "fVzEYDJY5gl8"
      },
      "source": [
        "# Project: Predicting Median House Price in Boston\n"
      ]
    },
    {
      "cell_type": "markdown",
      "metadata": {
        "id": "aM1fXC265lqn"
      },
      "source": [
        "In this project, I'm going to model the median home price of various houses across U.S. Census tracts in the city of Boston. Note that we are predicting a continuous, numeric output (price) based on a combination of discrete features. Thus, this is a regression problem."
      ]
    },
    {
      "cell_type": "code",
      "metadata": {
        "id": "F2o_srbz5kdg"
      },
      "source": [
        "# Let us import some libraries\n",
        "import matplotlib.pyplot as plt\n",
        "% matplotlib inline\n",
        "\n",
        "import pandas as pd\n",
        "import numpy as np\n",
        "from sklearn.datasets import load_boston"
      ],
      "execution_count": 1,
      "outputs": []
    },
    {
      "cell_type": "code",
      "metadata": {
        "id": "_8jD7HZqM7nm"
      },
      "source": [
        "# loading the data\n",
        "boston = load_boston()\n",
        "\n",
        "X = pd.DataFrame(boston.data,\n",
        "                 columns=boston.feature_names)\n",
        "y = pd.DataFrame(boston.target,\n",
        "                 columns=['MEDV'])\n",
        "\n",
        "print(boston['DESCR'])"
      ],
      "execution_count": null,
      "outputs": []
    },
    {
      "cell_type": "markdown",
      "metadata": {
        "id": "1J1fLxqpNJ7S"
      },
      "source": [
        "## 1. Clean Up Data and Perform Exporatory Data Analysis\n"
      ]
    },
    {
      "cell_type": "markdown",
      "metadata": {
        "id": "q2k4R1VHNSSD"
      },
      "source": [
        "Boston data is from scikit-learn datasets library. Thus, it should be in clean format. Nevertheless, we should always perform exploratory data analysis before we start our analysis in detail.\n",
        "\n"
      ]
    },
    {
      "cell_type": "code",
      "metadata": {
        "id": "2ibetViPNiNJ"
      },
      "source": [
        "# Exploratory data analysis:\n",
        "# Include: total nulls, data types, shape, summary statistics, and the number of unique values for each column in the dataset.\n",
        "# You may use plots to describe any relationships between different columns.\n",
        "\n",
        "#answer \n",
        "\n",
        "#for EDA purpose, i'll use X as data set because y is response variable \n",
        "X.info() #null check \n",
        "X.dtypes #data types\n",
        "X.shape #shape\n",
        "X.describe() #summary stat\n",
        "\n",
        "#plot \n",
        "import matplotlib.pyplot as plt\n",
        "import seaborn as sns\n",
        "\n",
        "#comparision between exploratory variables\n",
        "X.plot() \n",
        "\n",
        "#I combine 2 df horizontally to plot relationship between exploratory and response varible \n",
        "concatenated = pd.concat([X, y], axis=1) \n",
        "sns.set(style=\"white\")\n",
        "sns.pairplot(concatenated, y_vars='MEDV')\n",
        "#as we can see, CRIM located mostly at the lower level income, etc. \n",
        "\n",
        "\n"
      ],
      "execution_count": null,
      "outputs": []
    },
    {
      "cell_type": "markdown",
      "metadata": {
        "id": "vzzpflNUOEKL"
      },
      "source": [
        "## 2. Build a Lasso regression model using Scikit-Learn"
      ]
    },
    {
      "cell_type": "markdown",
      "metadata": {
        "id": "HfrO2wi6OiDE"
      },
      "source": [
        "Use the toolset in Scikit-Learn to build a Lasso regression model to predict our target variable, MEDV. Use a 10-fold cross validation in building your model. Score your predictions. What do these results tell us?\n"
      ]
    },
    {
      "cell_type": "code",
      "metadata": {
        "id": "Fltk1YvkOQqr",
        "colab": {
          "base_uri": "https://localhost:8080/"
        },
        "outputId": "737cd06e-0477-478a-bea0-b7386faaccfa"
      },
      "source": [
        "# Lasso regression model with 10-fold cross-validation\n",
        "from sklearn.linear_model import Lasso\n",
        "from sklearn.model_selection import KFold\n",
        "from sklearn.model_selection import cross_val_score\n",
        "\n",
        "# prepare the cross-validation procedure\n",
        "cv = KFold(n_splits=10, random_state=1, shuffle=True)\n",
        "# create model\n",
        "model = Lasso(alpha=0.1)\n",
        "# evaluate model\n",
        "scores = cross_val_score(model, X, y, cv=cv, n_jobs=-1)\n",
        "#Accuracy\n",
        "print(\"Accuracy: %0.2f (+/- %0.2f)\" % (scores.mean(), scores.std() * 2))\n"
      ],
      "execution_count": null,
      "outputs": [
        {
          "output_type": "stream",
          "name": "stdout",
          "text": [
            "Accuracy: 0.71 (+/- 0.25)\n"
          ]
        }
      ]
    },
    {
      "cell_type": "markdown",
      "metadata": {
        "id": "_kcii3YuPQwJ"
      },
      "source": [
        "## 3. Build a Random forest regression model using Scikit-Learn"
      ]
    },
    {
      "cell_type": "markdown",
      "metadata": {
        "id": "QIZngRynPblJ"
      },
      "source": [
        "Use the toolset in Scikit-Learn to build a Random forest regression model to predict our target variable, MEDV. Use a 10-fold cross validation in building your model. Score your predictions. What do these results tell us?"
      ]
    },
    {
      "cell_type": "code",
      "metadata": {
        "id": "scTUvbSOPU_O",
        "colab": {
          "base_uri": "https://localhost:8080/"
        },
        "outputId": "9c6f5b42-0205-4d1d-ca24-a44b66d5143f"
      },
      "source": [
        "# Random forest regression model with 10-fold cross-validation\n",
        "from sklearn.ensemble import RandomForestRegressor\n",
        "from sklearn.model_selection import KFold\n",
        "from sklearn.model_selection import cross_val_score\n",
        "\n",
        "# prepare the cross-validation procedure\n",
        "cv = KFold(n_splits=10, random_state=1, shuffle=True)\n",
        "# create model\n",
        "model = RandomForestRegressor(n_estimators = 1000, random_state = 0)\n",
        "# evaluate model\n",
        "scores = cross_val_score(model, X, y, cv=cv, n_jobs=-1)\n",
        "#Accuracy\n",
        "print(\"Accuracy: %0.2f (+/- %0.2f)\" % (scores.mean(), scores.std() * 2))\n",
        "\n",
        "\n"
      ],
      "execution_count": null,
      "outputs": [
        {
          "output_type": "stream",
          "name": "stdout",
          "text": [
            "Accuracy: 0.86 (+/- 0.18)\n"
          ]
        }
      ]
    },
    {
      "cell_type": "markdown",
      "metadata": {
        "id": "MxgxJdK1PlVw"
      },
      "source": [
        "## 4. Build a Support Vector Machine (SVM) model using Scikit-Learn"
      ]
    },
    {
      "cell_type": "markdown",
      "metadata": {
        "id": "qf7o_b87Pu67"
      },
      "source": [
        "Use the toolset in Scikit-Learn to build a Support Vector Machine (SVM) regression model to predict our target variable, MEDV. Use a 10-fold cross validation in building your model. Score your predictions. What do these results tell us?"
      ]
    },
    {
      "cell_type": "code",
      "metadata": {
        "id": "WZ33-TLvPsYY",
        "colab": {
          "base_uri": "https://localhost:8080/"
        },
        "outputId": "def908c3-e34a-4703-b899-d61de2a9219c"
      },
      "source": [
        "# Support Vector Machine (SVM) regression model with 10-fold cross-validation\n",
        "from sklearn.svm import SVR\n",
        "from sklearn.model_selection import KFold\n",
        "from sklearn.model_selection import cross_val_score\n",
        "\n",
        "# prepare the cross-validation procedure\n",
        "cv = KFold(n_splits=10, random_state=1, shuffle=True)\n",
        "# create model\n",
        "model = SVR(kernel = 'rbf')\n",
        "# evaluate model\n",
        "scores = cross_val_score(model, X, y, cv=cv, n_jobs=-1)\n",
        "#Accuracy\n",
        "print(\"Accuracy: %0.2f (+/- %0.2f)\" % (scores.mean(), scores.std() * 2))\n",
        "\n"
      ],
      "execution_count": null,
      "outputs": [
        {
          "output_type": "stream",
          "name": "stdout",
          "text": [
            "Accuracy: 0.21 (+/- 0.33)\n"
          ]
        }
      ]
    }
  ]
}