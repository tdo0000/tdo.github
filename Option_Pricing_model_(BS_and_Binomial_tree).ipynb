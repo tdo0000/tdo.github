{
  "nbformat": 4,
  "nbformat_minor": 0,
  "metadata": {
    "colab": {
      "name": "Option_Pricing_model (BS and Binomial tree)",
      "provenance": []
    },
    "kernelspec": {
      "name": "python3",
      "display_name": "Python 3"
    },
    "language_info": {
      "name": "python"
    }
  },
  "cells": [
    {
      "cell_type": "markdown",
      "source": [
        "Redo my coursework (Future and Option) using Python - implement Black Scholes and Binomial pricing using given dataset. \n",
        " \n"
      ],
      "metadata": {
        "id": "JBDilSIbFuQc"
      }
    },
    {
      "cell_type": "markdown",
      "source": [
        "Assume that on April 13 the ABC stock price was $20.69.  Assume that the option on ABC stock expires in 1 month and the risk-free rate is 2.7% p.a. \n",
        "\n",
        "a) Compute European call and put price with strike X=19 using Black Scholes closed form solution\n",
        "\n",
        "b)\tApproximate prices of European put option with X=19 and European call option with X=19 using 5-step binomial trees. \n",
        "\n",
        "e)\tApproximate prices of American put option with X=19 and American call option with X=19 using 5-step binomial trees. \n",
        "\n",
        "Note: datafile: HW5_data.xls was given in class and imported below:\n",
        "\n"
      ],
      "metadata": {
        "id": "Es-mTpB_MwoL"
      }
    },
    {
      "cell_type": "code",
      "execution_count": 104,
      "metadata": {
        "colab": {
          "base_uri": "https://localhost:8080/"
        },
        "id": "DjNSvT8AMYxz",
        "outputId": "2d46d9df-4031-407f-c34b-a0a8bc14d213"
      },
      "outputs": [
        {
          "output_type": "stream",
          "name": "stdout",
          "text": [
            "Looking in indexes: https://pypi.org/simple, https://us-python.pkg.dev/colab-wheels/public/simple/\n",
            "Requirement already satisfied: xlrd in /usr/local/lib/python3.7/dist-packages (2.0.1)\n"
          ]
        }
      ],
      "source": [
        "import numpy as np\n",
        "import pandas as pd\n",
        "!pip install --upgrade xlrd\n",
        "df = pd.read_excel('HW5_data.xls')\n",
        "\n"
      ]
    },
    {
      "cell_type": "markdown",
      "source": [
        "Part a: \n",
        "\n",
        "Step 1: Compute daily return, and annual volatility (252 trading days)\n",
        "\n",
        "Step 2: Compute price with using Black Scholes closed form solution\n",
        "\n"
      ],
      "metadata": {
        "id": "9ZNJzqz5S6uf"
      }
    },
    {
      "cell_type": "code",
      "source": [
        "from numpy import log as ln\n",
        "from math import exp, sqrt\n",
        "from scipy.stats import norm\n",
        "for i in range(1, len(df)): \n",
        "  df.loc[i,\"Daily return\"] = ln(df.loc[i,'Close']/df.loc[i-1,'Close'])\n",
        "print (df.head())\n",
        "sigma = df['Daily return'].std()*sqrt(252)\n",
        "print('Estimate volatility annually:',round(sigma*100,3),'%')\n",
        "#Assumption\n",
        "S  = 20.69 \n",
        "K  = 19\n",
        "rf = 0.027 \n",
        "T  = 1/12\n",
        "d1 = (ln(S/K) + T * (rf + sigma**2/2))/(sigma*sqrt(T)) \n",
        "d2 = d1 - sigma*sqrt(T) \n",
        "C  = S * norm.cdf(d1) - K * exp(-rf*T) * norm.cdf(d2)\n",
        "P  = K * exp(-rf*T) * norm.cdf(-d2) - S * norm.cdf(-d1)\n",
        "print(\"European call option price:\",round(C,3), 'and put option price:', round(P,3))"
      ],
      "metadata": {
        "colab": {
          "base_uri": "https://localhost:8080/"
        },
        "id": "zdporDz-WoBq",
        "outputId": "d5fb669a-8ba1-4892-fe01-2f409915e6fe"
      },
      "execution_count": 121,
      "outputs": [
        {
          "output_type": "stream",
          "name": "stdout",
          "text": [
            "   Day  Close  Daily return\n",
            "0    1  20.69           NaN\n",
            "1    2  21.24      0.026236\n",
            "2    3  22.08      0.038786\n",
            "3    4  21.42     -0.030347\n",
            "4    5  21.08     -0.016000\n",
            "Estimate volatility annually: 35.486 %\n",
            "European call option price: 1.954 and put option price: 0.221\n"
          ]
        }
      ]
    },
    {
      "cell_type": "markdown",
      "source": [
        "Part b and c:\n",
        "\n",
        "Step 1: Create function to compute option value \n",
        "\n",
        "Step 2: Assumption input \n",
        "\n",
        " "
      ],
      "metadata": {
        "id": "EUG48SK2BOoR"
      }
    },
    {
      "cell_type": "code",
      "source": [
        "import numpy as np\n",
        "from math import exp, sqrt\n",
        "import timeit\n",
        "def OptionsVal(n, S, K, rf, sigma, T, PC, EA):\n",
        "    dt  = T/n                    \n",
        "    u   = exp(sigma*sqrt(dt)) \n",
        "    d   = 1/u        \n",
        "    a   = exp(rf*dt)         \n",
        "    p   = (a-d)/(u-d)   \n",
        "    Ps  = np.zeros((n+1, n+1))   \n",
        "    Cm  = np.zeros((n+1, n+1))\n",
        "    tmp = np.zeros((2,n+1))\n",
        "    for j in range(n+1):\n",
        "        tmp[0,j] = S*pow(d,j)\n",
        "        tmp[1,j] = S*pow(u,j)\n",
        "    tot = np.unique(tmp)\n",
        "    c = n\n",
        "    for i in range(c+1):\n",
        "        for j in range(c+1):\n",
        "            Ps[i,j-c-1] = tot[(n-i)+j]\n",
        "        c=c-1\n",
        "    for j in range(n+1, 0, -1):\n",
        "        for i in range(j):\n",
        "          if (EA == 1):\n",
        "            if (PC == 1):                               \n",
        "                if(j == n+1):\n",
        "                    Cm[i,j-1] = max(K-Ps[i,j-1], 0)     \n",
        "                else:\n",
        "                    Cm[i,j-1] = exp(-rf*dt) * (p*Cm[i,j] + (1-p)*Cm[i+1,j]) \n",
        "            if (PC == 0):                               \n",
        "                if (j == n + 1):\n",
        "                    Cm[i,j-1] = max(Ps[i,j-1]-K, 0)     \n",
        "                else:\n",
        "                    Cm[i,j-1] = exp(-rf*dt) * (p*Cm[i,j] + (1-p)*Cm[i+1,j]) \n",
        "          else:\n",
        "            if (PC == 1):                               \n",
        "                if(j == n+1):\n",
        "                    Cm[i,j-1] = max(K-Ps[i,j-1], 0)     \n",
        "                else:\n",
        "                    Cm[i,j-1] = max(exp(-rf*dt) * (p*Cm[i,j] + (1-p)*Cm[i+1,j]), K-Ps[i,j-1]) \n",
        "            if (PC == 0):                               \n",
        "                if (j == n + 1):\n",
        "                    Cm[i,j-1] = max(Ps[i,j-1]-K, 0)     \n",
        "                else:\n",
        "                    Cm[i,j-1] = max(exp(-rf*dt) * (p*Cm[i,j] + (1-p)*Cm[i+1,j]), Ps[i,j-1]-K)\n",
        "    return [Ps,Cm] \n"
      ],
      "metadata": {
        "id": "KVZzsgwy5XS0"
      },
      "execution_count": 122,
      "outputs": []
    },
    {
      "cell_type": "code",
      "source": [
        "S = 20.69\n",
        "k = 19\n",
        "rf = 2.7/100\n",
        "T = 1/12\n",
        "n = 5\n",
        "\n",
        "EA = 1\n",
        "PC = 0\n",
        "Ps,EUCmC = OptionsVal(n,S,k,rf,sigma,T,PC,EA)\n",
        "PC = 1\n",
        "_,EUCmP = OptionsVal(n,S,k,rf,sigma,T,PC,EA)\n",
        "print('Stock:\\n',np.matrix(Ps.astype(float)),'\\n')\n",
        "print('European Call Option:\\n',np.matrix(EUCmC.astype(float)),'\\n')\n",
        "print('European Put Option:\\n',np.matrix(EUCmP.astype(float)),'\\n')\n",
        "\n",
        "EA = 0\n",
        "PC = 0\n",
        "Ps,aCmC = OptionsVal(n,S,k,rf,sigma,T,PC,EA)\n",
        "PC = 1\n",
        "_,aCmP = OptionsVal(n,S,k,rf,sigma,T,PC,EA)\n",
        "print('American Call Option:\\n',np.matrix(aCmC.astype(float)),'\\n')\n",
        "print('American Put Option:\\n',np.matrix(aCmP.astype(float)),'\\n')\n"
      ],
      "metadata": {
        "colab": {
          "base_uri": "https://localhost:8080/"
        },
        "id": "Q18iCoPV5aXL",
        "outputId": "b4945945-4b49-4027-de6d-5ceda9be103c"
      },
      "execution_count": 123,
      "outputs": [
        {
          "output_type": "stream",
          "name": "stdout",
          "text": [
            "Stock:\n",
            " [[20.69       21.65989062 22.67524707 23.73820064 24.85098258 26.01592868]\n",
            " [ 0.         19.76353932 20.69       21.65989062 22.67524707 23.73820064]\n",
            " [ 0.          0.         18.87856387 19.76353932 20.69       21.65989062]\n",
            " [ 0.          0.          0.         18.03321601 18.87856387 19.76353932]\n",
            " [ 0.          0.          0.          0.         17.2257213  18.03321601]\n",
            " [ 0.          0.          0.          0.          0.         16.45438474]] \n",
            "\n",
            "European Call Option:\n",
            " [[1.974088   2.75759341 3.70087976 4.75529295 5.85953065 7.01592868]\n",
            " [0.         1.21256897 1.84111564 2.67698293 3.68379514 4.73820064]\n",
            " [0.         0.         0.60133055 1.02846871 1.69854808 2.65989062]\n",
            " [0.         0.         0.         0.18575659 0.37660651 0.76353932]\n",
            " [0.         0.         0.         0.         0.         0.        ]\n",
            " [0.         0.         0.         0.         0.         0.        ]] \n",
            "\n",
            "European Put Option:\n",
            " [[0.24138605 0.06353355 0.         0.         0.         0.        ]\n",
            " [0.         0.41486041 0.12548295 0.         0.         0.        ]\n",
            " [0.         0.         0.69713398 0.24783708 0.         0.        ]\n",
            " [0.         0.         0.         1.13544827 0.48949456 0.        ]\n",
            " [0.         0.         0.         0.         1.76573062 0.96678399]\n",
            " [0.         0.         0.         0.         0.         2.54561526]] \n",
            "\n",
            "American Call Option:\n",
            " [[1.974088   2.75759341 3.70087976 4.75529295 5.85953065 7.01592868]\n",
            " [0.         1.21256897 1.84111564 2.67698293 3.68379514 4.73820064]\n",
            " [0.         0.         0.60133055 1.02846871 1.69854808 2.65989062]\n",
            " [0.         0.         0.         0.18575659 0.37660651 0.76353932]\n",
            " [0.         0.         0.         0.         0.         0.        ]\n",
            " [0.         0.         0.         0.         0.         0.        ]] \n",
            "\n",
            "American Put Option:\n",
            " [[0.2419478  0.06353355 0.         0.         0.         0.        ]\n",
            " [0.         0.4159699  0.12548295 0.         0.         0.        ]\n",
            " [0.         0.         0.6993253  0.24783708 0.         0.        ]\n",
            " [0.         0.         0.         1.13977626 0.48949456 0.        ]\n",
            " [0.         0.         0.         0.         1.7742787  0.96678399]\n",
            " [0.         0.         0.         0.         0.         2.54561526]] \n",
            "\n"
          ]
        }
      ]
    },
    {
      "cell_type": "markdown",
      "source": [
        ""
      ],
      "metadata": {
        "id": "TIJQKiWsfTm_"
      }
    }
  ]
}