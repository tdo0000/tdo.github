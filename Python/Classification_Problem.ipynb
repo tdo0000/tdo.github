{
  "nbformat": 4,
  "nbformat_minor": 0,
  "metadata": {
    "colab": {
      "name": "Classification Problem",
      "provenance": [],
      "collapsed_sections": []
    },
    "kernelspec": {
      "name": "python3",
      "display_name": "Python 3"
    }
  },
  "cells": [
    {
      "cell_type": "markdown",
      "metadata": {
        "id": "g4DMG_rJzwZq"
      },
      "source": [
        "## The breast cancer Wisconsin dataset (classification problem)\n",
        "\n",
        "Let us build two predictive models on the following dataset:\n",
        "\n",
        "(http://archive.ics.uci.edu/ml/datasets/breast+cancer+wisconsin+%28original%29)\n",
        "\n"
      ]
    },
    {
      "cell_type": "code",
      "metadata": {
        "id": "exnwFpEaVOxt",
        "colab": {
          "base_uri": "https://localhost:8080/"
        },
        "outputId": "a1ff4a12-9694-4ddc-8aab-96ac1683aecb"
      },
      "source": [
        "# load the breast cancer Wisconsin dataset\n",
        "from sklearn.datasets import load_breast_cancer\n",
        "cancer = load_breast_cancer()\n",
        "type(cancer)"
      ],
      "execution_count": null,
      "outputs": [
        {
          "output_type": "execute_result",
          "data": {
            "text/plain": [
              "sklearn.utils.Bunch"
            ]
          },
          "metadata": {},
          "execution_count": 2
        }
      ]
    },
    {
      "cell_type": "markdown",
      "metadata": {
        "id": "NPdHmxPMYyrq"
      },
      "source": [
        "Bunch is a Dictionary-like object in Scikit-Learn. The interesting attributes are: \n",
        "- ‘data’, the data to learn, \n",
        "- ‘target’, the classification labels, \n",
        "-‘target_names’, the meaning of the labels, \n",
        "- ‘feature_names’, the meaning of the features, and \n",
        "-‘DESCR’, the full description of the dataset, \n",
        "- ‘filename’, the physical location of breast cancer csv dataset (added in version 0.20)."
      ]
    },
    {
      "cell_type": "code",
      "metadata": {
        "id": "Q_sHliMPZCIq",
        "colab": {
          "base_uri": "https://localhost:8080/"
        },
        "outputId": "50342db0-061e-49dc-9b3e-bcdb771ffba5"
      },
      "source": [
        "list(cancer.feature_names)"
      ],
      "execution_count": null,
      "outputs": [
        {
          "output_type": "execute_result",
          "data": {
            "text/plain": [
              "['mean radius',\n",
              " 'mean texture',\n",
              " 'mean perimeter',\n",
              " 'mean area',\n",
              " 'mean smoothness',\n",
              " 'mean compactness',\n",
              " 'mean concavity',\n",
              " 'mean concave points',\n",
              " 'mean symmetry',\n",
              " 'mean fractal dimension',\n",
              " 'radius error',\n",
              " 'texture error',\n",
              " 'perimeter error',\n",
              " 'area error',\n",
              " 'smoothness error',\n",
              " 'compactness error',\n",
              " 'concavity error',\n",
              " 'concave points error',\n",
              " 'symmetry error',\n",
              " 'fractal dimension error',\n",
              " 'worst radius',\n",
              " 'worst texture',\n",
              " 'worst perimeter',\n",
              " 'worst area',\n",
              " 'worst smoothness',\n",
              " 'worst compactness',\n",
              " 'worst concavity',\n",
              " 'worst concave points',\n",
              " 'worst symmetry',\n",
              " 'worst fractal dimension']"
            ]
          },
          "metadata": {},
          "execution_count": 3
        }
      ]
    },
    {
      "cell_type": "code",
      "metadata": {
        "id": "zjc1NEgrZJ00",
        "colab": {
          "base_uri": "https://localhost:8080/"
        },
        "outputId": "34761350-95eb-41c9-f6e5-e5d820b7c0f0"
      },
      "source": [
        "list(cancer.target_names)"
      ],
      "execution_count": null,
      "outputs": [
        {
          "output_type": "execute_result",
          "data": {
            "text/plain": [
              "['malignant', 'benign']"
            ]
          },
          "metadata": {},
          "execution_count": 4
        }
      ]
    },
    {
      "cell_type": "markdown",
      "metadata": {
        "id": "S7_EEqvXeNGU"
      },
      "source": [
        "## GaussianNB method of Naive Bayes"
      ]
    },
    {
      "cell_type": "code",
      "metadata": {
        "id": "hQ6eURzEZNBT"
      },
      "source": [
        "# split the data into training and test data\n",
        "from sklearn.model_selection import train_test_split\n",
        "X_train, X_test, y_train, y_test = train_test_split(cancer.data, cancer.target, test_size=0.25, random_state=0)"
      ],
      "execution_count": null,
      "outputs": []
    },
    {
      "cell_type": "code",
      "metadata": {
        "id": "YOn3L_1QhUVG"
      },
      "source": [
        "# Let us apply Feature Scaling to our data\n",
        "from sklearn.preprocessing import StandardScaler\n",
        "sc = StandardScaler()\n",
        "X_train = sc.fit_transform(X_train)\n",
        "X_test = sc.transform(X_test)"
      ],
      "execution_count": null,
      "outputs": []
    },
    {
      "cell_type": "code",
      "metadata": {
        "id": "b3ITKmLRbKlP",
        "colab": {
          "base_uri": "https://localhost:8080/"
        },
        "outputId": "724f02eb-4c9f-4fc0-c2bc-ba1656db66ba"
      },
      "source": [
        "# Use GaussianNB method of Naive Bayes class to build a prediction model on training data\n",
        "# Obtain the accuracy of your model predictions on test data\n",
        "# Create a confusion matrix as part of your output\n",
        "\n",
        "# ANSWER:\n",
        "\n",
        "#1. import your model\n",
        "#2. instantiate your model\n",
        "#3. fit your model to training data\n",
        "#4. evaluate your trained model on test data\n",
        "\n",
        "#Import Gaussian Naive Bayes model\n",
        "from sklearn.naive_bayes import GaussianNB\n",
        "\n",
        "#Create a Gaussian Classifier\n",
        "gnb = GaussianNB()\n",
        "\n",
        "#Train the model using the training sets\n",
        "gnb.fit(X_train, y_train)\n",
        "\n",
        "#Predict the response for test dataset\n",
        "y_pred = gnb.predict(X_test)\n",
        " \n",
        "#Model Accuracy, Import scikit-learn metrics \n",
        "from sklearn import metrics\n",
        "print(metrics.accuracy_score(y_test, y_pred))\n",
        " \n",
        "# Confusion matrix \n",
        "from sklearn.metrics import confusion_matrix\n",
        "confusion_matrix(y_test, y_pred)\n",
        "\n",
        "\n",
        "\n"
      ],
      "execution_count": null,
      "outputs": [
        {
          "output_type": "stream",
          "name": "stdout",
          "text": [
            "0.916083916083916\n"
          ]
        },
        {
          "output_type": "execute_result",
          "data": {
            "text/plain": [
              "array([[47,  6],\n",
              "       [ 6, 84]])"
            ]
          },
          "metadata": {},
          "execution_count": 7
        }
      ]
    },
    {
      "cell_type": "markdown",
      "metadata": {
        "id": "vlJzZd-seRdH"
      },
      "source": [
        "## SVM\n"
      ]
    },
    {
      "cell_type": "code",
      "metadata": {
        "id": "fsoLGbAdeR_O"
      },
      "source": [
        "# split the data into training and test data\n",
        "from sklearn.model_selection import train_test_split\n",
        "X_train, X_test, y_train, y_test = train_test_split(cancer.data, cancer.target, test_size=0.25, random_state=0)"
      ],
      "execution_count": null,
      "outputs": []
    },
    {
      "cell_type": "code",
      "metadata": {
        "id": "3Mmue8Z-grYT"
      },
      "source": [
        "# Let us apply Feature Scaling to our data\n",
        "from sklearn.preprocessing import StandardScaler\n",
        "sc = StandardScaler()\n",
        "X_train = sc.fit_transform(X_train)\n",
        "X_test = sc.transform(X_test)"
      ],
      "execution_count": null,
      "outputs": []
    },
    {
      "cell_type": "code",
      "metadata": {
        "id": "BFmnsCIee0Yq",
        "colab": {
          "base_uri": "https://localhost:8080/"
        },
        "outputId": "80221250-a313-44b2-92af-b5cc57206c80"
      },
      "source": [
        "# Use Support vector Machines (SVM) class in Scikit-Learn to build a prediction model on training data\n",
        "# Obtain the accuracy of your model predictions on test data\n",
        "# Create a confusion matrix as part of your output\n",
        "\n",
        "# ANSWER:\n",
        "\n",
        "#Import svm model\n",
        "from sklearn import svm\n",
        "\n",
        "#Create a svm Classifier\n",
        "svmclf = svm.SVC(kernel='linear')\n",
        "\n",
        "#Train the model using the training sets\n",
        "svmclf.fit(X_train, y_train)\n",
        "\n",
        "#Predict the response for test dataset\n",
        "y_pred = svmclf.predict(X_test)\n",
        " \n",
        "#Model Accuracy, Import scikit-learn metrics \n",
        "from sklearn import metrics\n",
        "print(metrics.accuracy_score(y_test, y_pred))\n",
        " \n",
        "# Confusion matrix \n",
        "from sklearn.metrics import confusion_matrix\n",
        "confusion_matrix(y_test, y_pred)\n",
        "\n",
        "\n",
        "\n",
        "\n",
        "\n"
      ],
      "execution_count": null,
      "outputs": [
        {
          "output_type": "stream",
          "name": "stdout",
          "text": [
            "0.972027972027972\n"
          ]
        },
        {
          "output_type": "execute_result",
          "data": {
            "text/plain": [
              "array([[51,  2],\n",
              "       [ 2, 88]])"
            ]
          },
          "metadata": {},
          "execution_count": 10
        }
      ]
    },
    {
      "cell_type": "markdown",
      "metadata": {
        "id": "9J4KdQtqt1Rw"
      },
      "source": [
        "## Diabetes dataset"
      ]
    },
    {
      "cell_type": "markdown",
      "metadata": {
        "id": "yUScpvSHzZQ3"
      },
      "source": [
        "https://www4.stat.ncsu.edu/~boos/var.select/diabetes.html\n",
        "\n",
        "The dataset contains 10 features (that have already been mean centered and scaled) and a target value: a measure of disease progression one year after baseline."
      ]
    },
    {
      "cell_type": "code",
      "metadata": {
        "id": "GiyvZ8Esz5dj",
        "colab": {
          "base_uri": "https://localhost:8080/"
        },
        "outputId": "497c99fe-3a88-4a81-90fc-12fd5afc041c"
      },
      "source": [
        "# load the dataset\n",
        "import pandas as pd\n",
        "from sklearn.datasets import load_diabetes\n",
        "X, y = load_diabetes(return_X_y=True)\n",
        "X = pd.DataFrame(X)\n",
        "y = pd.DataFrame(y)\n",
        "print(X.head())\n",
        "print(y.head())"
      ],
      "execution_count": null,
      "outputs": [
        {
          "output_type": "stream",
          "name": "stdout",
          "text": [
            "          0         1         2         3         4         5         6  \\\n",
            "0  0.038076  0.050680  0.061696  0.021872 -0.044223 -0.034821 -0.043401   \n",
            "1 -0.001882 -0.044642 -0.051474 -0.026328 -0.008449 -0.019163  0.074412   \n",
            "2  0.085299  0.050680  0.044451 -0.005671 -0.045599 -0.034194 -0.032356   \n",
            "3 -0.089063 -0.044642 -0.011595 -0.036656  0.012191  0.024991 -0.036038   \n",
            "4  0.005383 -0.044642 -0.036385  0.021872  0.003935  0.015596  0.008142   \n",
            "\n",
            "          7         8         9  \n",
            "0 -0.002592  0.019908 -0.017646  \n",
            "1 -0.039493 -0.068330 -0.092204  \n",
            "2 -0.002592  0.002864 -0.025930  \n",
            "3  0.034309  0.022692 -0.009362  \n",
            "4 -0.002592 -0.031991 -0.046641  \n",
            "       0\n",
            "0  151.0\n",
            "1   75.0\n",
            "2  141.0\n",
            "3  206.0\n",
            "4  135.0\n"
          ]
        }
      ]
    },
    {
      "cell_type": "code",
      "metadata": {
        "id": "zKTzoY_Y0xfE"
      },
      "source": [
        "# setting up training set and test set \n",
        "from sklearn.model_selection import train_test_split\n",
        "X_train, X_test, y_train, y_test = train_test_split(X, y, test_size=0.25, random_state=0)\n"
      ],
      "execution_count": null,
      "outputs": []
    },
    {
      "cell_type": "code",
      "metadata": {
        "id": "eWBs2_fp1Wlp",
        "colab": {
          "base_uri": "https://localhost:8080/"
        },
        "outputId": "f42e4a6c-de08-461f-b391-d9a281b93b3a"
      },
      "source": [
        "# fit a linear regression model on training data and determine training set score and test set score\n",
        "# ANSWER:\n",
        "from sklearn.linear_model import LinearRegression\n",
        "model = LinearRegression()\n",
        "model.fit(X_train,y_train)\n",
        "#training score, testing score: \n",
        "print(model.score(X_train,y_train))\n",
        "print(model.score(X_test,y_test))\n"
      ],
      "execution_count": null,
      "outputs": [
        {
          "output_type": "stream",
          "name": "stdout",
          "text": [
            "0.555437148935302\n",
            "0.35940090989715534\n"
          ]
        }
      ]
    }
  ]
}